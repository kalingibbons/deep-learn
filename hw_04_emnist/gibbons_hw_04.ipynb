{
 "cells": [
  {
   "cell_type": "markdown",
   "metadata": {},
   "source": [
    "\n",
    " # Homework 04\n",
    "\n",
    " **Student**: Kalin Gibbons\n",
    "\n",
    " **Course Instructor**: John Chiasson\n",
    "\n",
    " **Author (TA)**: Ruthvik Vaila\n",
    "\n",
    " > Note:\n",
    " > * In this notebook we shall load a large `NumPy` array directly into RAM to\n",
    " >   train a model.\n",
    " >\n",
    " > * While the model is training keep an eye on the time taken and RAM usage\n",
    " >   of your machine.\n",
    " >\n",
    " > * Tested on `Python 3.7.5` with `Tensorflow 1.15.0` and `Keras 2.2.4`.\n",
    " >\n",
    " > * Tested on `Python 2.7.17` with `Tensorflow 1.15.3` and `Keras 2.2.4`."
   ]
  },
  {
   "cell_type": "markdown",
   "metadata": {},
   "source": [
    "\n",
    " ## First we must import and configure Keras and the Tensorflow backend\n"
   ]
  },
  {
   "cell_type": "code",
   "execution_count": 1,
   "metadata": {},
   "outputs": [
    {
     "name": "stderr",
     "output_type": "stream",
     "text": [
      "Using TensorFlow backend.\n"
     ]
    }
   ],
   "source": [
    "import gzip\n",
    "import os\n",
    "import pickle\n",
    "import sys\n",
    "import warnings\n",
    "from pathlib import Path\n",
    "\n",
    "import IPython\n",
    "import IPython.display as display\n",
    "import keras\n",
    "import matplotlib.pyplot as plt\n",
    "import numpy as np\n",
    "import pandas as pd\n",
    "import tensorflow as tf\n",
    "from tensorflow.keras.utils import to_categorical\n",
    "from tensorflow.keras.layers import (Conv2D,\n",
    "                                     Dropout,\n",
    "                                     Flatten,\n",
    "                                     Dense,\n",
    "                                     MaxPooling2D)\n",
    "from tensorflow.compat.v1 import InteractiveSession\n",
    "from tensorflow.python.client import device_lib\n",
    "\n"
   ]
  },
  {
   "cell_type": "markdown",
   "metadata": {},
   "source": [
    "\n",
    " ## Configure Keras\n",
    "\n",
    " Filtering the warning messages is important, because the Tensorflow team love\n",
    " to leave extensive deprecation messages all over their repository. We also\n",
    " need to configure tensorflow to use a CUDA enabled GPU. Specifically we need\n",
    " to:\n",
    "\n",
    " 1. Create a setting allowing the end user to toggle between GPU or CPU.\n",
    " 2. Force `tensorflow` to allocate a small amount of GPU memory, then increase\n",
    "    the allocation, as needed. Otherwise it will default to all available\n",
    "    memory, and compete with the computer display. See this [github\n",
    "    issue](https://github.com/tensorflow/tensorflow/issues/24828).\n",
    " 3. Leave in a toggle for using _eager-execution_, for debugging purposes."
   ]
  },
  {
   "cell_type": "code",
   "execution_count": 2,
   "metadata": {},
   "outputs": [
    {
     "name": "stdout",
     "output_type": "stream",
     "text": [
      "3.7.9 (default, Aug 31 2020, 17:10:11) [MSC v.1916 64 bit (AMD64)]\n",
      "TF version:1.15.0, Keras version:2.2.4\n",
      "\n"
     ]
    },
    {
     "data": {
      "text/plain": [
       "[name: \"/device:CPU:0\"\n",
       " device_type: \"CPU\"\n",
       " memory_limit: 268435456\n",
       " locality {\n",
       " }\n",
       " incarnation: 11329891345593630496,\n",
       " name: \"/device:GPU:0\"\n",
       " device_type: \"GPU\"\n",
       " memory_limit: 6588305899\n",
       " locality {\n",
       "   bus_id: 1\n",
       "   links {\n",
       "   }\n",
       " }\n",
       " incarnation: 15320558394674183175\n",
       " physical_device_desc: \"device: 0, name: GeForce RTX 2070 SUPER, pci bus id: 0000:02:00.0, compute capability: 7.5\"]"
      ]
     },
     "execution_count": 2,
     "metadata": {},
     "output_type": "execute_result"
    }
   ],
   "source": [
    "print(sys.version)\n",
    "os.environ[\"CUDA_VISIBLE_DEVICES\"] = \"0\"  # setting it to -1 hides the GPU.\n",
    "warnings.filterwarnings(action='once')\n",
    "warnings.filterwarnings('ignore', category=DeprecationWarning)\n",
    "\n",
    "# tf.compat.v1.enable_eager_execution()\n",
    "\n",
    "# Tensorflow-GPU settings\n",
    "config = tf.ConfigProto()\n",
    "config.gpu_options.allow_growth = True\n",
    "session = InteractiveSession(config=config)\n",
    "\n",
    "# Print out some diagnostic information about the host machine\n",
    "print(f'TF version:{tf.__version__}, Keras version:{keras.__version__}\\n')\n",
    "device_lib.list_local_devices()\n",
    "\n"
   ]
  },
  {
   "cell_type": "markdown",
   "metadata": {},
   "source": [
    "\n",
    " ## Load the data\n",
    "\n",
    " > Note:\n",
    " > There are `60000` images in the training set and each image needs to be of\n",
    " > size `(28, 28, 1)` for `Keras`. The extra dimension in `(28, 28, 1)`\n",
    " > indicates number of channels. In this case we have `1` channel because it's\n",
    " > a gray scale image. In datasets like `CIFAR-10`, `CIFAR-100`, and\n",
    " > `ImageNet` images have `3` channels `(RGB)`.\n",
    "\n",
    " The EMNIST dataset is `latin1` encoded, and contains 28x28 images of\n",
    " 47 hand-written alphanumeric characters."
   ]
  },
  {
   "cell_type": "code",
   "execution_count": 3,
   "metadata": {},
   "outputs": [],
   "source": [
    "data_dir = Path.cwd().parent / 'data'\n",
    "emnist_path = data_dir / 'emnist-balanced.pkl.gz'\n",
    "with gzip.open(emnist_path, 'rb') as file:\n",
    "    train_data, val_data, test_data = pickle.load(file, encoding='latin1')\n",
    "    train_x, train_y = train_data\n",
    "    val_x, val_y = val_data\n",
    "    test_x, test_y = test_data\n",
    "\n"
   ]
  },
  {
   "cell_type": "code",
   "execution_count": 4,
   "metadata": {},
   "outputs": [
    {
     "data": {
      "text/html": [
       "<div>\n",
       "<style scoped>\n",
       "    .dataframe tbody tr th:only-of-type {\n",
       "        vertical-align: middle;\n",
       "    }\n",
       "\n",
       "    .dataframe tbody tr th {\n",
       "        vertical-align: top;\n",
       "    }\n",
       "\n",
       "    .dataframe thead th {\n",
       "        text-align: right;\n",
       "    }\n",
       "</style>\n",
       "<table border=\"1\" class=\"dataframe\">\n",
       "  <thead>\n",
       "    <tr style=\"text-align: right;\">\n",
       "      <th></th>\n",
       "      <th>train_x</th>\n",
       "      <th>first_train</th>\n",
       "      <th>second_train</th>\n",
       "      <th>last_train</th>\n",
       "      <th>train_y</th>\n",
       "      <th>val_x</th>\n",
       "      <th>val_y</th>\n",
       "      <th>test_x</th>\n",
       "      <th>test_y</th>\n",
       "    </tr>\n",
       "  </thead>\n",
       "  <tbody>\n",
       "    <tr>\n",
       "      <th>shapes</th>\n",
       "      <td>(99999, 784)</td>\n",
       "      <td>(784,)</td>\n",
       "      <td>(784,)</td>\n",
       "      <td>(784,)</td>\n",
       "      <td>(99999,)</td>\n",
       "      <td>(12800, 784)</td>\n",
       "      <td>(12800,)</td>\n",
       "      <td>(18800, 784)</td>\n",
       "      <td>(18800,)</td>\n",
       "    </tr>\n",
       "  </tbody>\n",
       "</table>\n",
       "</div>"
      ],
      "text/plain": [
       "             train_x first_train second_train last_train   train_y  \\\n",
       "shapes  (99999, 784)      (784,)       (784,)     (784,)  (99999,)   \n",
       "\n",
       "               val_x     val_y        test_x    test_y  \n",
       "shapes  (12800, 784)  (12800,)  (18800, 784)  (18800,)  "
      ]
     },
     "execution_count": 4,
     "metadata": {},
     "output_type": "execute_result"
    }
   ],
   "source": [
    "def summarize_shapes(locs=None):\n",
    "    shapes = pd.DataFrame(\n",
    "        dict(\n",
    "            train_x=[train_x.shape],\n",
    "            first_train=[train_x[0].shape],\n",
    "            second_train=[train_x[1].shape],\n",
    "            last_train=[train_x[-1].shape],\n",
    "            train_y=[train_y.shape],\n",
    "            val_x=[val_x.shape],\n",
    "            val_y=[val_y.shape],\n",
    "            test_x=[test_x.shape],\n",
    "            test_y=[test_y.shape]\n",
    "        ),\n",
    "        index=['shapes']\n",
    "    )\n",
    "    df = shapes.loc[locs] if locs else shapes\n",
    "    return df\n",
    "\n",
    "\n",
    "summarize_shapes()\n",
    "\n"
   ]
  },
  {
   "cell_type": "code",
   "execution_count": 5,
   "metadata": {},
   "outputs": [
    {
     "data": {
      "text/html": [
       "<div>\n",
       "<style scoped>\n",
       "    .dataframe tbody tr th:only-of-type {\n",
       "        vertical-align: middle;\n",
       "    }\n",
       "\n",
       "    .dataframe tbody tr th {\n",
       "        vertical-align: top;\n",
       "    }\n",
       "\n",
       "    .dataframe thead th {\n",
       "        text-align: right;\n",
       "    }\n",
       "</style>\n",
       "<table border=\"1\" class=\"dataframe\">\n",
       "  <thead>\n",
       "    <tr style=\"text-align: right;\">\n",
       "      <th></th>\n",
       "      <th>train_x</th>\n",
       "      <th>first_train</th>\n",
       "      <th>second_train</th>\n",
       "      <th>last_train</th>\n",
       "      <th>train_y</th>\n",
       "      <th>val_x</th>\n",
       "      <th>val_y</th>\n",
       "      <th>test_x</th>\n",
       "      <th>test_y</th>\n",
       "    </tr>\n",
       "  </thead>\n",
       "  <tbody>\n",
       "    <tr>\n",
       "      <th>shapes</th>\n",
       "      <td>(112799, 784)</td>\n",
       "      <td>(784,)</td>\n",
       "      <td>(784,)</td>\n",
       "      <td>(784,)</td>\n",
       "      <td>(112799,)</td>\n",
       "      <td>(12800, 784)</td>\n",
       "      <td>(12800,)</td>\n",
       "      <td>(18800, 784)</td>\n",
       "      <td>(18800,)</td>\n",
       "    </tr>\n",
       "  </tbody>\n",
       "</table>\n",
       "</div>"
      ],
      "text/plain": [
       "              train_x first_train second_train last_train    train_y  \\\n",
       "shapes  (112799, 784)      (784,)       (784,)     (784,)  (112799,)   \n",
       "\n",
       "               val_x     val_y        test_x    test_y  \n",
       "shapes  (12800, 784)  (12800,)  (18800, 784)  (18800,)  "
      ]
     },
     "execution_count": 5,
     "metadata": {},
     "output_type": "execute_result"
    }
   ],
   "source": [
    "# combine train and validation data as Keras will split it internally\n",
    "# (so long as we're not subclassing our own Layers?)\n",
    "train_x = np.concatenate([train_x, val_x], axis=0)\n",
    "train_y = np.concatenate([train_y, val_y], axis=0)\n",
    "summarize_shapes()\n",
    "\n"
   ]
  },
  {
   "cell_type": "code",
   "execution_count": 6,
   "metadata": {},
   "outputs": [
    {
     "data": {
      "text/html": [
       "<div>\n",
       "<style scoped>\n",
       "    .dataframe tbody tr th:only-of-type {\n",
       "        vertical-align: middle;\n",
       "    }\n",
       "\n",
       "    .dataframe tbody tr th {\n",
       "        vertical-align: top;\n",
       "    }\n",
       "\n",
       "    .dataframe thead th {\n",
       "        text-align: right;\n",
       "    }\n",
       "</style>\n",
       "<table border=\"1\" class=\"dataframe\">\n",
       "  <thead>\n",
       "    <tr style=\"text-align: right;\">\n",
       "      <th></th>\n",
       "      <th>train_x</th>\n",
       "      <th>first_train</th>\n",
       "      <th>second_train</th>\n",
       "      <th>last_train</th>\n",
       "      <th>train_y</th>\n",
       "      <th>val_x</th>\n",
       "      <th>val_y</th>\n",
       "      <th>test_x</th>\n",
       "      <th>test_y</th>\n",
       "    </tr>\n",
       "  </thead>\n",
       "  <tbody>\n",
       "    <tr>\n",
       "      <th>shapes</th>\n",
       "      <td>(112799, 28, 28, 1)</td>\n",
       "      <td>(28, 28, 1)</td>\n",
       "      <td>(28, 28, 1)</td>\n",
       "      <td>(28, 28, 1)</td>\n",
       "      <td>(112799,)</td>\n",
       "      <td>(12800, 784)</td>\n",
       "      <td>(12800,)</td>\n",
       "      <td>(18800, 784)</td>\n",
       "      <td>(18800,)</td>\n",
       "    </tr>\n",
       "  </tbody>\n",
       "</table>\n",
       "</div>"
      ],
      "text/plain": [
       "                    train_x  first_train second_train   last_train    train_y  \\\n",
       "shapes  (112799, 28, 28, 1)  (28, 28, 1)  (28, 28, 1)  (28, 28, 1)  (112799,)   \n",
       "\n",
       "               val_x     val_y        test_x    test_y  \n",
       "shapes  (12800, 784)  (12800,)  (18800, 784)  (18800,)  "
      ]
     },
     "execution_count": 6,
     "metadata": {},
     "output_type": "execute_result"
    }
   ],
   "source": [
    "train_x = train_x.reshape(train_x.shape[0], 28, 28, 1)\n",
    "summarize_shapes()\n",
    "\n"
   ]
  },
  {
   "cell_type": "code",
   "execution_count": 7,
   "metadata": {},
   "outputs": [
    {
     "data": {
      "text/html": [
       "<div>\n",
       "<style scoped>\n",
       "    .dataframe tbody tr th:only-of-type {\n",
       "        vertical-align: middle;\n",
       "    }\n",
       "\n",
       "    .dataframe tbody tr th {\n",
       "        vertical-align: top;\n",
       "    }\n",
       "\n",
       "    .dataframe thead th {\n",
       "        text-align: right;\n",
       "    }\n",
       "</style>\n",
       "<table border=\"1\" class=\"dataframe\">\n",
       "  <thead>\n",
       "    <tr style=\"text-align: right;\">\n",
       "      <th></th>\n",
       "      <th>train_x</th>\n",
       "      <th>first_train</th>\n",
       "      <th>second_train</th>\n",
       "      <th>last_train</th>\n",
       "      <th>train_y</th>\n",
       "      <th>val_x</th>\n",
       "      <th>val_y</th>\n",
       "      <th>test_x</th>\n",
       "      <th>test_y</th>\n",
       "    </tr>\n",
       "  </thead>\n",
       "  <tbody>\n",
       "    <tr>\n",
       "      <th>shapes</th>\n",
       "      <td>(112799, 28, 28, 1)</td>\n",
       "      <td>(28, 28, 1)</td>\n",
       "      <td>(28, 28, 1)</td>\n",
       "      <td>(28, 28, 1)</td>\n",
       "      <td>(112799,)</td>\n",
       "      <td>(12800, 784)</td>\n",
       "      <td>(12800,)</td>\n",
       "      <td>(18800, 28, 28, 1)</td>\n",
       "      <td>(18800,)</td>\n",
       "    </tr>\n",
       "  </tbody>\n",
       "</table>\n",
       "</div>"
      ],
      "text/plain": [
       "                    train_x  first_train second_train   last_train    train_y  \\\n",
       "shapes  (112799, 28, 28, 1)  (28, 28, 1)  (28, 28, 1)  (28, 28, 1)  (112799,)   \n",
       "\n",
       "               val_x     val_y              test_x    test_y  \n",
       "shapes  (12800, 784)  (12800,)  (18800, 28, 28, 1)  (18800,)  "
      ]
     },
     "execution_count": 7,
     "metadata": {},
     "output_type": "execute_result"
    }
   ],
   "source": [
    "test_x = test_x.reshape(test_x.shape[0], 28, 28, 1)\n",
    "summarize_shapes()\n",
    "\n"
   ]
  },
  {
   "cell_type": "markdown",
   "metadata": {},
   "source": [
    " ## One hot vectorize labels"
   ]
  },
  {
   "cell_type": "code",
   "execution_count": 8,
   "metadata": {},
   "outputs": [
    {
     "name": "stdout",
     "output_type": "stream",
     "text": [
      "train_y[0]\n",
      " [0. 0. 0. 0. 0. 0. 0. 0. 0. 0. 0. 0. 0. 0. 0. 0. 0. 0. 0. 0. 0. 0. 0. 0.\n",
      " 0. 0. 0. 0. 0. 0. 0. 0. 0. 0. 0. 0. 0. 0. 0. 0. 0. 0. 0. 0. 0. 1. 0.]\n"
     ]
    },
    {
     "data": {
      "text/html": [
       "<div>\n",
       "<style scoped>\n",
       "    .dataframe tbody tr th:only-of-type {\n",
       "        vertical-align: middle;\n",
       "    }\n",
       "\n",
       "    .dataframe tbody tr th {\n",
       "        vertical-align: top;\n",
       "    }\n",
       "\n",
       "    .dataframe thead th {\n",
       "        text-align: right;\n",
       "    }\n",
       "</style>\n",
       "<table border=\"1\" class=\"dataframe\">\n",
       "  <thead>\n",
       "    <tr style=\"text-align: right;\">\n",
       "      <th></th>\n",
       "      <th>train_x</th>\n",
       "      <th>first_train</th>\n",
       "      <th>second_train</th>\n",
       "      <th>last_train</th>\n",
       "      <th>train_y</th>\n",
       "      <th>val_x</th>\n",
       "      <th>val_y</th>\n",
       "      <th>test_x</th>\n",
       "      <th>test_y</th>\n",
       "    </tr>\n",
       "  </thead>\n",
       "  <tbody>\n",
       "    <tr>\n",
       "      <th>shapes</th>\n",
       "      <td>(112799, 28, 28, 1)</td>\n",
       "      <td>(28, 28, 1)</td>\n",
       "      <td>(28, 28, 1)</td>\n",
       "      <td>(28, 28, 1)</td>\n",
       "      <td>(112799, 47)</td>\n",
       "      <td>(12800, 784)</td>\n",
       "      <td>(12800,)</td>\n",
       "      <td>(18800, 28, 28, 1)</td>\n",
       "      <td>(18800, 47)</td>\n",
       "    </tr>\n",
       "  </tbody>\n",
       "</table>\n",
       "</div>"
      ],
      "text/plain": [
       "                    train_x  first_train second_train   last_train  \\\n",
       "shapes  (112799, 28, 28, 1)  (28, 28, 1)  (28, 28, 1)  (28, 28, 1)   \n",
       "\n",
       "             train_y         val_x     val_y              test_x       test_y  \n",
       "shapes  (112799, 47)  (12800, 784)  (12800,)  (18800, 28, 28, 1)  (18800, 47)  "
      ]
     },
     "execution_count": 8,
     "metadata": {},
     "output_type": "execute_result"
    }
   ],
   "source": [
    "train_y = to_categorical(train_y)\n",
    "test_y = to_categorical(test_y)\n",
    "print('train_y[0]\\n', train_y[0])\n",
    "summarize_shapes()\n",
    "\n"
   ]
  },
  {
   "cell_type": "markdown",
   "metadata": {},
   "source": [
    " ## Visualize the dataset."
   ]
  },
  {
   "cell_type": "code",
   "execution_count": 9,
   "metadata": {},
   "outputs": [
    {
     "data": {
      "image/png": "[encoded data removed]",
      "text/plain": [
       "<Figure size 1440x288 with 20 Axes>"
      ]
     },
     "metadata": {
      "needs_background": "light"
     },
     "output_type": "display_data"
    }
   ],
   "source": [
    "subplot_kwargs = dict(\n",
    "    xticks=range(0, 28, 7),\n",
    "    yticks=range(0, 38, 7)\n",
    ")\n",
    "fig, axes = plt.subplots(2, 10, figsize=(20, 4), subplot_kw=subplot_kwargs)\n",
    "fig.subplots_adjust(\n",
    "    left=0.12,\n",
    "    bottom=0.1,\n",
    "    right=0.9,\n",
    "    top=0.8,\n",
    "    wspace=0.3,\n",
    "    hspace=0.5\n",
    ")\n",
    "for idx, ax in enumerate(axes.flatten()):\n",
    "    ax.imshow(train_x[idx, ..., 0])\n",
    "\n",
    "plt.suptitle('First 20 Images of the Dataset')\n",
    "plt.show()\n",
    "\n"
   ]
  },
  {
   "cell_type": "markdown",
   "metadata": {},
   "source": [
    " ## Setup a small CNN model using `tf.keras.Sequential`\n",
    "\n",
    " * A simple convolutional neural network with the structure\n",
    " * `32c32p64c64p->200->10`\n",
    " * `Adam optimizer` and `Cross Entropy Loss` with a learning rate ($\\alpha$)\n",
    "   set to `0.005`."
   ]
  },
  {
   "cell_type": "code",
   "execution_count": 10,
   "metadata": {},
   "outputs": [],
   "source": [
    "# Fraction of training data to be used for validation\n",
    "\n"
   ]
  },
  {
   "cell_type": "code",
   "execution_count": 11,
   "metadata": {},
   "outputs": [
    {
     "name": "stdout",
     "output_type": "stream",
     "text": [
      "WARNING:tensorflow:From C:\\Users\\kalingibbons\\AppData\\Roaming\\Python\\Python37\\site-packages\\tensorflow_core\\python\\ops\\resource_variable_ops.py:1630: calling BaseResourceVariable.__init__ (from tensorflow.python.ops.resource_variable_ops) with constraint is deprecated and will be removed in a future version.\n",
      "Instructions for updating:\n",
      "If using Keras pass *_constraint arguments to layers.\n",
      "Model: \"sequential_1\"\n",
      "_________________________________________________________________\n",
      "Layer (type)                 Output Shape              Param #   \n",
      "=================================================================\n",
      "conv2d (Conv2D)              (None, 24, 24, 64)        1664      \n",
      "_________________________________________________________________\n",
      "max_pooling2d (MaxPooling2D) (None, 12, 12, 64)        0         \n",
      "_________________________________________________________________\n",
      "conv2d_1 (Conv2D)            (None, 10, 10, 128)       73856     \n",
      "_________________________________________________________________\n",
      "max_pooling2d_1 (MaxPooling2 (None, 5, 5, 128)         0         \n",
      "_________________________________________________________________\n",
      "conv2d_2 (Conv2D)            (None, 3, 3, 256)         295168    \n",
      "_________________________________________________________________\n",
      "dropout (Dropout)            (None, 3, 3, 256)         0         \n",
      "_________________________________________________________________\n",
      "flatten (Flatten)            (None, 2304)              0         \n",
      "_________________________________________________________________\n",
      "dense (Dense)                (None, 128)               295040    \n",
      "_________________________________________________________________\n",
      "dropout_1 (Dropout)          (None, 128)               0         \n",
      "_________________________________________________________________\n",
      "dense_1 (Dense)              (None, 47)                6063      \n",
      "=================================================================\n",
      "Total params: 671,791\n",
      "Trainable params: 671,791\n",
      "Non-trainable params: 0\n",
      "_________________________________________________________________\n",
      "None\n"
     ]
    }
   ],
   "source": [
    "def build_model():\n",
    "    model = tf.keras.Sequential()\n",
    "\n",
    "    # FIRST CONVOLUTION LAYER\n",
    "    model = tf.keras.Sequential(\n",
    "        [\n",
    "            Conv2D(\n",
    "                filters=64,  # 32\n",
    "                kernel_size=(5, 5),\n",
    "                strides=(1, 1),\n",
    "                activation='relu',\n",
    "                input_shape=(28, 28, 1),\n",
    "            ),  # The 32 maps are 24x24   # 28-5+1 = 24\n",
    "            # Dropout(0.1),\n",
    "            MaxPooling2D(\n",
    "                pool_size=(2, 2),\n",
    "                strides=2\n",
    "            ),  # The 32 pooled maps are 12x12\n",
    "            Conv2D(\n",
    "                filters=128,  # 64\n",
    "                kernel_size=(3, 3),\n",
    "                strides=(1, 1),\n",
    "                activation='relu',\n",
    "            ),  # The 64 maps are 10x10   (12-3+1 = 10)\n",
    "            MaxPooling2D(\n",
    "                pool_size=(2, 2),\n",
    "                strides=2,\n",
    "            ),  # The 64 pooled maps are 5x5\n",
    "            Conv2D(\n",
    "                filters=256,  # 128\n",
    "                kernel_size=(3, 3),\n",
    "                strides=(1, 1),\n",
    "                activation='relu'\n",
    "            ),  # The 128 maps are 3x3 (5 - 3 + 1)\n",
    "            Dropout(0.1),\n",
    "            Flatten(),  # 64x5x5 -> 1600 neuron layer (128x3x3 -> 1152)\n",
    "            Dense(units=128, activation='relu'),\n",
    "            Dropout(0.5),\n",
    "            Dense(units=47, activation='softmax'),\n",
    "        ]\n",
    "    )\n",
    "\n",
    "    return model\n",
    "\n",
    "\n",
    "def compile_model(model, loss_fcn, optimizer='adam', lr=1e-3):\n",
    "    if(optimizer == 'adam'):\n",
    "        optim = tf.keras.optimizers.Adam(lr=lr)\n",
    "    else:\n",
    "        optim = tf.keras.optimizers.SGD(lr=lr)\n",
    "\n",
    "    model.compile(optimizer=optim, loss=loss_fcn, metrics=['accuracy'])\n",
    "    print(model.summary())\n",
    "    return None\n",
    "\n",
    "\n",
    "def fit_model(model, X, y, batch_size, epochs=3, callbacks=None, **fit_kwargs):\n",
    "    history = model.fit(X,\n",
    "                        y,\n",
    "                        epochs=epochs,\n",
    "                        batch_size=batch_size,\n",
    "                        callbacks=callbacks,\n",
    "                        **fit_kwargs)\n",
    "    return history\n",
    "\n",
    "\n",
    "# callback to keras to save best model weights\n",
    "best_weights = \"cnn_weights_best.hdf5\"\n",
    "checkpoint = tf.keras.callbacks.ModelCheckpoint(best_weights,\n",
    "                                                monitor='val_acc',\n",
    "                                                verbose=1,\n",
    "                                                save_best_only=True,\n",
    "                                                mode='max')\n",
    "stopping = tf.keras.callbacks.EarlyStopping(monitor='val_acc',\n",
    "                                            patience=5,\n",
    "                                            restore_best_weights=False)\n",
    "\n",
    "model = build_model()\n",
    "loss_fcn = 'categorical_crossentropy'\n",
    "optimizer = 'adam'\n",
    "compile_model(model,\n",
    "              optimizer=optimizer,\n",
    "              lr=5e-4,\n",
    "              loss_fcn='categorical_crossentropy')\n",
    "\n"
   ]
  },
  {
   "cell_type": "markdown",
   "metadata": {},
   "source": [
    " ## Train the CNN"
   ]
  },
  {
   "cell_type": "code",
   "execution_count": 12,
   "metadata": {},
   "outputs": [
    {
     "name": "stdout",
     "output_type": "stream",
     "text": [
      "Epoch 1/15\n",
      "6743/6750 [============================>.] - ETA: 0s - loss: 1.1409 - acc: 0.6578Epoch 1/15\n",
      " 748/6750 [==>...........................] - ETA: 18s - loss: 0.5081 - acc: 0.8307\n",
      "Epoch 00001: val_acc improved from -inf to 0.83033, saving model to cnn_weights_best.hdf5\n",
      "6750/6750 [==============================] - 34s 5ms/step - loss: 1.1404 - acc: 0.6580 - val_loss: 0.5097 - val_acc: 0.8303\n",
      "Epoch 2/15\n",
      "6739/6750 [============================>.] - ETA: 0s - loss: 0.6171 - acc: 0.7978Epoch 1/15\n",
      " 736/6750 [==>...........................] - ETA: 17s - loss: 0.4337 - acc: 0.8378\n",
      "Epoch 00002: val_acc improved from 0.83033 to 0.83800, saving model to cnn_weights_best.hdf5\n",
      "6750/6750 [==============================] - 31s 5ms/step - loss: 0.6169 - acc: 0.7978 - val_loss: 0.4329 - val_acc: 0.8380\n",
      "Epoch 3/15\n",
      "6744/6750 [============================>.] - ETA: 0s - loss: 0.5241 - acc: 0.8241Epoch 1/15\n",
      " 736/6750 [==>...........................] - ETA: 19s - loss: 0.4139 - acc: 0.8539\n",
      "Epoch 00003: val_acc improved from 0.83800 to 0.85417, saving model to cnn_weights_best.hdf5\n",
      "6750/6750 [==============================] - 31s 5ms/step - loss: 0.5239 - acc: 0.8241 - val_loss: 0.4122 - val_acc: 0.8542\n",
      "Epoch 4/15\n",
      "6742/6750 [============================>.] - ETA: 0s - loss: 0.4840 - acc: 0.8377Epoch 1/15\n",
      " 738/6750 [==>...........................] - ETA: 18s - loss: 0.3911 - acc: 0.8647\n",
      "Epoch 00004: val_acc improved from 0.85417 to 0.86483, saving model to cnn_weights_best.hdf5\n",
      "6750/6750 [==============================] - 34s 5ms/step - loss: 0.4842 - acc: 0.8375 - val_loss: 0.3899 - val_acc: 0.8648\n",
      "Epoch 5/15\n",
      "6743/6750 [============================>.] - ETA: 0s - loss: 0.4538 - acc: 0.8422Epoch 1/15\n",
      " 742/6750 [==>...........................] - ETA: 18s - loss: 0.3698 - acc: 0.8699\n",
      "Epoch 00005: val_acc improved from 0.86483 to 0.86967, saving model to cnn_weights_best.hdf5\n",
      "6750/6750 [==============================] - 32s 5ms/step - loss: 0.4537 - acc: 0.8422 - val_loss: 0.3693 - val_acc: 0.8697\n",
      "Epoch 6/15\n",
      "6743/6750 [============================>.] - ETA: 0s - loss: 0.4292 - acc: 0.8503Epoch 1/15\n",
      " 750/6750 [==>...........................] - ETA: 17s - loss: 0.3631 - acc: 0.8732\n",
      "Epoch 00006: val_acc improved from 0.86967 to 0.87317, saving model to cnn_weights_best.hdf5\n",
      "6750/6750 [==============================] - 33s 5ms/step - loss: 0.4292 - acc: 0.8503 - val_loss: 0.3631 - val_acc: 0.8732\n",
      "Epoch 7/15\n",
      "6743/6750 [============================>.] - ETA: 0s - loss: 0.4195 - acc: 0.8517Epoch 1/15\n",
      " 744/6750 [==>...........................] - ETA: 22s - loss: 0.3628 - acc: 0.8715\n",
      "Epoch 00007: val_acc did not improve from 0.87317\n",
      "6750/6750 [==============================] - 34s 5ms/step - loss: 0.4194 - acc: 0.8517 - val_loss: 0.3621 - val_acc: 0.8713\n",
      "Epoch 8/15\n",
      "6738/6750 [============================>.] - ETA: 0s - loss: 0.4044 - acc: 0.8588Epoch 1/15\n",
      " 749/6750 [==>...........................] - ETA: 18s - loss: 0.3669 - acc: 0.8743\n",
      "Epoch 00008: val_acc improved from 0.87317 to 0.87450, saving model to cnn_weights_best.hdf5\n",
      "6750/6750 [==============================] - 33s 5ms/step - loss: 0.4042 - acc: 0.8589 - val_loss: 0.3666 - val_acc: 0.8745\n",
      "Epoch 9/15\n",
      "6744/6750 [============================>.] - ETA: 0s - loss: 0.3929 - acc: 0.8612Epoch 1/15\n",
      " 742/6750 [==>...........................] - ETA: 18s - loss: 0.3438 - acc: 0.8753\n",
      "Epoch 00009: val_acc improved from 0.87450 to 0.87583, saving model to cnn_weights_best.hdf5\n",
      "6750/6750 [==============================] - 33s 5ms/step - loss: 0.3928 - acc: 0.8612 - val_loss: 0.3427 - val_acc: 0.8758\n",
      "Epoch 10/15\n",
      "6737/6750 [============================>.] - ETA: 0s - loss: 0.3870 - acc: 0.8622Epoch 1/15\n",
      " 742/6750 [==>...........................] - ETA: 19s - loss: 0.3670 - acc: 0.8743\n",
      "Epoch 00010: val_acc did not improve from 0.87583\n",
      "6750/6750 [==============================] - 33s 5ms/step - loss: 0.3873 - acc: 0.8621 - val_loss: 0.3652 - val_acc: 0.8752\n",
      "Epoch 11/15\n",
      "6739/6750 [============================>.] - ETA: 0s - loss: 0.3833 - acc: 0.8648Epoch 1/15\n",
      " 738/6750 [==>...........................] - ETA: 18s - loss: 0.3469 - acc: 0.8774\n",
      "Epoch 00011: val_acc improved from 0.87583 to 0.87700, saving model to cnn_weights_best.hdf5\n",
      "6750/6750 [==============================] - 32s 5ms/step - loss: 0.3833 - acc: 0.8648 - val_loss: 0.3461 - val_acc: 0.8770\n",
      "Epoch 12/15\n",
      "6745/6750 [============================>.] - ETA: 0s - loss: 0.3627 - acc: 0.8708Epoch 1/15\n",
      " 742/6750 [==>...........................] - ETA: 18s - loss: 0.3561 - acc: 0.8807\n",
      "Epoch 00012: val_acc improved from 0.87700 to 0.88100, saving model to cnn_weights_best.hdf5\n",
      "6750/6750 [==============================] - 32s 5ms/step - loss: 0.3628 - acc: 0.8708 - val_loss: 0.3549 - val_acc: 0.8810\n",
      "Epoch 13/15\n",
      "6740/6750 [============================>.] - ETA: 0s - loss: 0.3715 - acc: 0.8689Epoch 1/15\n",
      " 744/6750 [==>...........................] - ETA: 21s - loss: 0.3364 - acc: 0.8844\n",
      "Epoch 00013: val_acc improved from 0.88100 to 0.88433, saving model to cnn_weights_best.hdf5\n",
      "6750/6750 [==============================] - 33s 5ms/step - loss: 0.3716 - acc: 0.8689 - val_loss: 0.3366 - val_acc: 0.8843\n",
      "Epoch 14/15\n",
      "6746/6750 [============================>.] - ETA: 0s - loss: 0.3576 - acc: 0.8738Epoch 1/15\n",
      " 742/6750 [==>...........................] - ETA: 18s - loss: 0.3425 - acc: 0.8792\n",
      "Epoch 00014: val_acc did not improve from 0.88433\n",
      "6750/6750 [==============================] - 34s 5ms/step - loss: 0.3577 - acc: 0.8737 - val_loss: 0.3418 - val_acc: 0.8795\n",
      "Epoch 15/15\n",
      "6748/6750 [============================>.] - ETA: 0s - loss: 0.3615 - acc: 0.8719Epoch 1/15\n",
      " 745/6750 [==>...........................] - ETA: 18s - loss: 0.3511 - acc: 0.8812\n",
      "Epoch 00015: val_acc did not improve from 0.88433\n",
      "6750/6750 [==============================] - 33s 5ms/step - loss: 0.3615 - acc: 0.8719 - val_loss: 0.3519 - val_acc: 0.8810\n"
     ]
    }
   ],
   "source": [
    "\n",
    "# history = fit_model(model,\n",
    "#                     train_x,\n",
    "#                     train_y,\n",
    "#                     batch_size=32,\n",
    "#                     epochs=3,\n",
    "#                     callbacks=[checkpoint],\n",
    "#                     validation_split=0.1)\n",
    "\n",
    "\n",
    "datagen = tf.keras.preprocessing.image.ImageDataGenerator(\n",
    "    rotation_range=5,\n",
    "    # shear_range=10,\n",
    "    zoom_range=0.2,\n",
    "    # width_shift_range=0.1,\n",
    "    # height_shift_range=0.1,\n",
    "    # zca_whitening=True,\n",
    "    # zca_epsilon=1e-5,\n",
    "    validation_split=0.1,\n",
    ")\n",
    "datagen.fit(train_x)\n",
    "\n",
    "bs = 8\n",
    "train_it = datagen.flow(train_x, train_y, subset='training', batch_size=bs)\n",
    "val_it = datagen.flow(train_x, train_y, subset='validation', batch_size=bs)\n",
    "history = model.fit_generator(generator=train_it,\n",
    "                              steps_per_epoch=int(np.ceil(60e3 * 0.9 / bs)),\n",
    "                              epochs=15,\n",
    "                              validation_data=val_it,\n",
    "                              validation_steps=int(np.ceil(60e3 * 0.1 / bs)),\n",
    "                              callbacks=[checkpoint, stopping])\n"
   ]
  },
  {
   "cell_type": "markdown",
   "metadata": {},
   "source": [
    " # Test the model at the end"
   ]
  },
  {
   "cell_type": "code",
   "execution_count": 13,
   "metadata": {},
   "outputs": [
    {
     "name": "stdout",
     "output_type": "stream",
     "text": [
      "18800/18800 [==============================] - 5s 250us/sample - loss: 0.3551 - acc: 0.8818\n"
     ]
    },
    {
     "data": {
      "text/plain": [
       "[0.35505473793163816, 0.8817553]"
      ]
     },
     "execution_count": 13,
     "metadata": {},
     "output_type": "execute_result"
    }
   ],
   "source": [
    "model.evaluate(test_x, test_y, batch_size=bs)\n",
    "# datagen = tf.keras.preprocessing.image.ImageDataGenerator(\n",
    "#     # zca_whitening=True,\n",
    "#     # zca_epsilon=1e-5\n",
    "# )\n",
    "# datagen.fit(test_x)\n",
    "# test_it = datagen.flow(test_x, test_y, batch_size=bs)\n",
    "# model.evaluate_generator(test_it)\n",
    "\n"
   ]
  },
  {
   "cell_type": "markdown",
   "metadata": {},
   "source": [
    " # Test at the best validation accuracy"
   ]
  },
  {
   "cell_type": "code",
   "execution_count": 14,
   "metadata": {},
   "outputs": [
    {
     "name": "stdout",
     "output_type": "stream",
     "text": [
      "18800/18800 [==============================] - 5s 248us/sample - loss: 0.3540 - acc: 0.8855\n"
     ]
    },
    {
     "data": {
      "text/plain": [
       "[0.35398416090650725, 0.88547873]"
      ]
     },
     "execution_count": 14,
     "metadata": {},
     "output_type": "execute_result"
    }
   ],
   "source": [
    "model.load_weights(best_weights)\n",
    "model.compile(optimizer=optimizer, loss=loss_fcn, metrics=['accuracy'])\n",
    "model.evaluate(test_x, test_y, batch_size=bs)\n",
    "# model.evaluate_generator(test_it)\n",
    "\n"
   ]
  },
  {
   "cell_type": "markdown",
   "metadata": {},
   "source": [
    " # Restart the notebook to free up the `GPU` and `RAM`."
   ]
  },
  {
   "cell_type": "code",
   "execution_count": 15,
   "metadata": {},
   "outputs": [],
   "source": [
    "# IPython.Application.instance().kernel.do_shutdown(True)  # automatically\n",
    "# restarts kernel\n",
    "session.close()\n",
    "\n"
   ]
  }
 ],
 "metadata": {
  "kernelspec": {
   "display_name": "Python 3",
   "language": "python",
   "name": "python3"
  },
  "language_info": {
   "codemirror_mode": {
    "name": "ipython",
    "version": 3
   },
   "file_extension": ".py",
   "mimetype": "text/x-python",
   "name": "python",
   "nbconvert_exporter": "python",
   "pygments_lexer": "ipython3",
   "version": "3.8.3"
  }
 },
 "nbformat": 4,
 "nbformat_minor": 4
}
