{
 "cells": [
  {
   "cell_type": "markdown",
   "metadata": {},
   "source": [
    "`Course Instructor`: **John Chiasson**\n",
    "\n",
    "`Author (TA)`: **Ruthvik Vaila**\n",
    "\n",
    "# Notes:\n",
    "* In this notebook we shall load a large `NumPy` array directly into RAM to train a model.\n",
    "* While the model is training keep an eye on the time taken and RAM usage of your machine.\n",
    "* Tested on `Python 3.7.5` with `Tensorflow 1.15.0` and `Keras 2.2.4`. \n",
    "* Tested on `Python 2.7.17` with `Tensorflow 1.15.3` and `Keras 2.2.4`. "
   ]
  },
  {
   "cell_type": "markdown",
   "metadata": {},
   "source": [
    "# Imports"
   ]
  },
  {
   "cell_type": "code",
   "execution_count": 34,
   "metadata": {},
   "outputs": [
    {
     "data": {
      "text/plain": [
       "'3.7.3 (default, Mar 27 2019, 17:13:21) [MSC v.1915 64 bit (AMD64)]'"
      ]
     },
     "execution_count": 34,
     "metadata": {},
     "output_type": "execute_result"
    }
   ],
   "source": [
    "import sys, os\n",
    "sys.version"
   ]
  },
  {
   "cell_type": "code",
   "execution_count": 35,
   "metadata": {},
   "outputs": [
    {
     "name": "stderr",
     "output_type": "stream",
     "text": [
      "C:\\ProgramData\\Anaconda3\\lib\\site-packages\\tensorflow_core\\python\\client\\session.py:1750: UserWarning: An interactive session is already active. This can cause out-of-memory errors in some cases. You must explicitly call `InteractiveSession.close()` to release resources held by the other session(s).\n",
      "  warnings.warn('An interactive session is already active. This can '\n"
     ]
    }
   ],
   "source": [
    "from tensorflow.compat.v1 import InteractiveSession\n",
    "import tensorflow as tf\n",
    "os.environ[\"CUDA_VISIBLE_DEVICES\"]=\"0\" #setting it to -1 hides the GPU.\n",
    "#tf.compat.v1.enable_eager_execution()\n",
    "from tensorflow.python.client import device_lib\n",
    "import numpy as np\n",
    "import IPython\n",
    "import sys, pickle, os, gzip\n",
    "#import h5py, time\n",
    "import IPython.display as display\n",
    "from keras.utils import to_categorical\n",
    "import keras, warnings\n",
    "import matplotlib.pyplot as plt\n",
    "warnings.filterwarnings(action='once')\n",
    "# GPU specific settings\n",
    "config = tf.ConfigProto()\n",
    "config.gpu_options.allow_growth=True\n",
    "session = InteractiveSession(config=config)\n",
    "# this make sure that if using a gpu total gpu memory is not gobbled\n",
    "# up by tensorflow and allows growth as required\n",
    "##https://github.com/tensorflow/tensorflow/issues/24828"
   ]
  },
  {
   "cell_type": "code",
   "execution_count": 36,
   "metadata": {},
   "outputs": [
    {
     "data": {
      "text/plain": [
       "[name: \"/device:CPU:0\"\n",
       " device_type: \"CPU\"\n",
       " memory_limit: 268435456\n",
       " locality {\n",
       " }\n",
       " incarnation: 16711829172239902913]"
      ]
     },
     "execution_count": 36,
     "metadata": {},
     "output_type": "execute_result"
    }
   ],
   "source": [
    "device_lib.list_local_devices()"
   ]
  },
  {
   "cell_type": "code",
   "execution_count": 37,
   "metadata": {},
   "outputs": [
    {
     "name": "stdout",
     "output_type": "stream",
     "text": [
      "TF version:1.15.0, Keras version:2.2.4\n"
     ]
    }
   ],
   "source": [
    "print('TF version:{}, Keras version:{}'.format(tf.__version__, keras.__version__))"
   ]
  },
  {
   "cell_type": "markdown",
   "metadata": {},
   "source": [
    "# Load the data\n",
    "* There are `60000` images in the training set and each image needs to be of size `(28, 28, 1)` for `Keras`. The extra dimension in `(28, 28, 1)` indicates number of channels. In this case we have `1` channel because it's a gray scale image. In datasets like `CIFAR-10`, `CIFAR-100`, and `ImageNet` images have `3` channels `(RGB)`. "
   ]
  },
  {
   "cell_type": "code",
   "execution_count": 47,
   "metadata": {},
   "outputs": [
    {
     "name": "stdout",
     "output_type": "stream",
     "text": [
      "train_x.shape:(50000, 784) and train_y.shape:(50000,)\n",
      "val_x.shape:(10000, 784) and val_y.shape:(10000,)\n",
      "images are 28*28 = 784 vectors\n",
      "\n",
      "train_x.shape:(60000, 784)\n",
      "train_y.shape:(60000,)\n",
      "\n",
      "train_x[0].shape:60000\n",
      "train_x[1].shape:784\n",
      "\n",
      "train_x.shape:(60000, 28, 28, 1)\n",
      "train_y.shape:(60000,)\n",
      "train_x[59999].shape: (28, 28, 1)\n",
      "\n",
      "test_x.shape:(10000, 784)\n",
      "test_x.shape:(10000, 28, 28, 1)\n",
      "test_y.shape:(10000,)\n"
     ]
    }
   ],
   "source": [
    "filename = 'data/mnist.pkl.gz'\n",
    "filehandle = gzip.open(filename, 'rb')\n",
    "train_data, val_data, test_data = pickle.load(filehandle, encoding='latin1')\n",
    "#train_data, val_data, test_data = pickle.load(filehandle)\n",
    "filehandle.close()\n",
    "train_x, train_y = train_data\n",
    "print('train_x.shape:{} and train_y.shape:{}'.format(train_x.shape, train_y.shape))\n",
    "val_x, val_y = val_data\n",
    "print('val_x.shape:{} and val_y.shape:{}'.format(val_x.shape, val_y.shape))\n",
    "print('images are 28*28 = 784 vectors')\n",
    "#print(train_x[0]) # images are float32, normalized, and 784 vectors\n",
    "print('')\n",
    "# combine train and validation data as Keras will split it internally\n",
    "train_x = np.concatenate([train_x, val_x], axis=0)\n",
    "train_y = np.concatenate([train_y, val_y], axis=0)\n",
    "print('train_x.shape:{}'.format(train_x.shape))\n",
    "print('train_y.shape:{}'.format(train_y.shape))\n",
    "print('')\n",
    "print('train_x[0].shape:{}'.format(train_x.shape[0]))\n",
    "print('train_x[1].shape:{}'.format(train_x.shape[1]))\n",
    "print('')\n",
    "train_x = train_x.reshape(train_x.shape[0], 28, 28, 1)\n",
    "print('train_x.shape:{}'.format(train_x.shape))\n",
    "print('train_y.shape:{}'.format(train_y.shape))\n",
    "print('train_x[59999].shape: {}'.format(train_x[59999].shape))\n",
    "#print('train_x[0]: {}'.format(train_x[0]))\n",
    "print('')\n",
    "test_x, test_y = test_data\n",
    "print('test_x.shape:{}'.format(test_x.shape))\n",
    "test_x = test_x.reshape(test_x.shape[0], 28, 28, 1)\n",
    "print('test_x.shape:{}'.format(test_x.shape))\n",
    "print('test_y.shape:{}'.format(test_y.shape))\n",
    "#train_x.shape[0]\n"
   ]
  },
  {
   "cell_type": "markdown",
   "metadata": {},
   "source": [
    "## One hot vectorize labels"
   ]
  },
  {
   "cell_type": "code",
   "execution_count": 48,
   "metadata": {},
   "outputs": [
    {
     "name": "stdout",
     "output_type": "stream",
     "text": [
      "train_y.shape:(60000, 10)\n",
      "test_y.shape:(10000, 10)\n"
     ]
    },
    {
     "data": {
      "text/plain": [
       "array([0., 0., 0., 0., 0., 1., 0., 0., 0., 0.], dtype=float32)"
      ]
     },
     "execution_count": 48,
     "metadata": {},
     "output_type": "execute_result"
    }
   ],
   "source": [
    "train_y = to_categorical(train_y)\n",
    "print('train_y.shape:{}'.format(train_y.shape))\n",
    "\n",
    "test_y = to_categorical(test_y)\n",
    "print('test_y.shape:{}'.format(test_y.shape))\n",
    "train_y[0]"
   ]
  },
  {
   "cell_type": "markdown",
   "metadata": {},
   "source": [
    "## Visualize the dataset.\n",
    "* The toggle command `ctrl + /` comments/uncomments multiple lines of code"
   ]
  },
  {
   "cell_type": "code",
   "execution_count": 51,
   "metadata": {},
   "outputs": [
    {
     "data": {
      "image/png": "[encoded data removed]",
      "text/plain": [
       "<Figure size 1440x288 with 20 Axes>"
      ]
     },
     "metadata": {
      "needs_background": "light"
     },
     "output_type": "display_data"
    }
   ],
   "source": [
    "fig, axes = plt.subplots(2, 10, figsize=(20,4), subplot_kw={'xticks': range(0,28,7), 'yticks': range(0,28,7)})\n",
    "fig.subplots_adjust(left=0.12, bottom=0.1, right=0.9, top=0.8, wspace=0.3, hspace=0.5)\n",
    "#axes is a 2 by 10 array of the memory addresses of the subplots\n",
    "#print(axes)\n",
    "axes = axes.flatten()  #  axes is now a 1 by 20 array of the memory addresses of the subplots\n",
    "#print(fig.shape)\n",
    "#print(len(axes))\n",
    "for i in range(len(axes)):\n",
    "    axes[i].imshow(train_x[i,:,:,0])\n",
    "plt.suptitle('First 20 Images of the Dataset')\n",
    "plt.show()"
   ]
  },
  {
   "cell_type": "markdown",
   "metadata": {},
   "source": [
    "#### Setup a small CNN model using `tf.keras.Sequential` \n",
    "* A simple convolutional neural network with the structure\n",
    "* `32c32p64c64p->200->10`\n",
    "* `Adam optimizer` and `Cross Entropy Loss` with a learning rate ($\\alpha$) set to `0.005`."
   ]
  },
  {
   "cell_type": "code",
   "execution_count": 53,
   "metadata": {},
   "outputs": [],
   "source": [
    "eta = 0.0005\n",
    "val_frac = 0.1 #Fraction of training data to be used for validation \n",
    "# FIRST CONVOLUTION LAYER\n",
    "nC1_kernels = 32 ##number of kernels in the first convolutional layer\n",
    "C1_kernel_shape = (5, 5) ## size of the kernel in the first convolutional layer (5,5)\n",
    "C1_stride = (1,1) ## stride of the convolution 1 pixel right and 1 pixel down \n",
    "C1_activation = 'relu' ## activation function of the C1 neurons\n",
    "P1_kernel_shape = (2, 2) ## Size of the pooling window (2,2) \n",
    "P1_stride = 2 ## stride of the pooling window\n",
    "\n",
    "# SECOND CONVOLUTION LAYER\n",
    "nC2_kernels = 64\n",
    "C2_kernel_shape = (3, 3)\n",
    "C2_stride = 1\n",
    "C2_activation = 'relu'\n",
    "P2_kernel_shape = (2, 2)\n",
    "P2_stride = 2\n",
    "\n",
    "# FULLY CONNECTED LAYER\n",
    "n_dense = 200\n",
    "dense_activation = 'relu'\n",
    "\n",
    "# FINAL LAYER\n",
    "last_activation = 'softmax'\n",
    "cost_function = 'categorical_crossentropy'\n",
    "n_out = 10\n",
    "optimizer = 'adam' #'sgd'"
   ]
  },
  {
   "cell_type": "code",
   "execution_count": 58,
   "metadata": {},
   "outputs": [],
   "source": [
    "# help(tf.keras.layers.Conv2D)\n",
    "# Conv2D(filters, kernel_size, strides=(1, 1), padding='valid', data_format=None, dilation_rate=(1, 1), \n",
    "#        activation=None, use_bias=True, kernel_initializer='glorot_uniform', bias_initializer='zeros', \n",
    "#        kernel_regularizer=None, bias_regularizer=None, activity_regularizer=None, kernel_constraint=None, \n",
    "#        bias_constraint=None, **kwargs)"
   ]
  },
  {
   "cell_type": "code",
   "execution_count": 60,
   "metadata": {},
   "outputs": [
    {
     "name": "stdout",
     "output_type": "stream",
     "text": [
      "Model: \"sequential_2\"\n",
      "_________________________________________________________________\n",
      "Layer (type)                 Output Shape              Param #   \n",
      "=================================================================\n",
      "conv2d_4 (Conv2D)            (None, 24, 24, 32)        832       \n",
      "_________________________________________________________________\n",
      "max_pooling2d_4 (MaxPooling2 (None, 12, 12, 32)        0         \n",
      "_________________________________________________________________\n",
      "conv2d_5 (Conv2D)            (None, 10, 10, 64)        18496     \n",
      "_________________________________________________________________\n",
      "max_pooling2d_5 (MaxPooling2 (None, 5, 5, 64)          0         \n",
      "_________________________________________________________________\n",
      "flatten_2 (Flatten)          (None, 1600)              0         \n",
      "_________________________________________________________________\n",
      "dense_4 (Dense)              (None, 200)               320200    \n",
      "_________________________________________________________________\n",
      "dense_5 (Dense)              (None, 10)                2010      \n",
      "=================================================================\n",
      "Total params: 341,538\n",
      "Trainable params: 341,538\n",
      "Non-trainable params: 0\n",
      "_________________________________________________________________\n",
      "None\n"
     ]
    }
   ],
   "source": [
    "model = tf.keras.Sequential()\n",
    "\n",
    "#FIRST CONVOLUTION LAYER\n",
    "model.add(tf.keras.layers.Conv2D(nC1_kernels, C1_kernel_shape, C1_stride, activation=C1_activation,\n",
    "                                input_shape=(28, 28, 1)))\n",
    "# The 32 maps are 24x24   # 28-5+1 = 24\n",
    "model.add(tf.keras.layers.MaxPooling2D(P1_kernel_shape, P1_stride))\n",
    "# The 32 pooled maps are 12x12  \n",
    "#SECOND CONVOLUTION LAYER\n",
    "model.add(tf.keras.layers.Conv2D(nC2_kernels, C2_kernel_shape, C2_stride, activation=C2_activation))\n",
    "# The 64 maps are 10x10   (12-3+1 = 10)\n",
    "model.add(tf.keras.layers.MaxPooling2D(P2_kernel_shape, P2_stride))\n",
    "# The 64 pooled maps are 5x5\n",
    "model.add(tf.keras.layers.Flatten())\n",
    "# This makes the 64 pooled 5x5 neuronal maps into a single 25*64 = 1600 neuron layer\n",
    "#FULLY CONNECTED LAYERS\n",
    "model.add(tf.keras.layers.Dense(n_dense, activation=dense_activation))\n",
    "model.add(tf.keras.layers.Dense(n_out, activation=last_activation))\n",
    "\n",
    "#COMPILE THE MODEL\n",
    "if(optimizer=='adam'):\n",
    "    optim = tf.keras.optimizers.Adam(lr=eta)\n",
    "else:\n",
    "    optim = tf.keras.optimizers.SGD(lr=eta)\n",
    "    \n",
    "model.compile(optimizer=optim, loss=cost_function, metrics=['accuracy'])\n",
    "print(model.summary())\n",
    "\n",
    "#CALLBACK TO KERAS TO SAVE BEST MODEL WEIGHTS\n",
    "best_weights=\"cnn_weights_best.hdf5\"\n",
    "checkpoint = tf.keras.callbacks.ModelCheckpoint(best_weights, monitor='val_acc', verbose=1, save_best_only=True,\n",
    "                                                mode='max')\n"
   ]
  },
  {
   "cell_type": "markdown",
   "metadata": {},
   "source": [
    "## Train the CNN"
   ]
  },
  {
   "cell_type": "code",
   "execution_count": 61,
   "metadata": {},
   "outputs": [
    {
     "name": "stdout",
     "output_type": "stream",
     "text": [
      "Train on 54000 samples, validate on 6000 samples\n",
      "Epoch 1/3\n",
      "53920/54000 [============================>.] - ETA: 0s - loss: 0.1603 - acc: 0.9516- ETA: 1\n",
      "Epoch 00001: val_acc improved from -inf to 0.98367, saving model to cnn_weights_best.hdf5\n",
      "54000/54000 [==============================] - 36s 666us/sample - loss: 0.1602 - acc: 0.9516 - val_loss: 0.0598 - val_acc: 0.9837\n",
      "Epoch 2/3\n",
      "53920/54000 [============================>.] - ETA: 0s - loss: 0.0509 - acc: 0.9838\n",
      "Epoch 00002: val_acc improved from 0.98367 to 0.98550, saving model to cnn_weights_best.hdf5\n",
      "54000/54000 [==============================] - 32s 597us/sample - loss: 0.0509 - acc: 0.9838 - val_loss: 0.0424 - val_acc: 0.9855\n",
      "Epoch 3/3\n",
      "53920/54000 [============================>.] - ETA: 0s - loss: 0.0352 - acc: 0.9890\n",
      "Epoch 00003: val_acc improved from 0.98550 to 0.99017, saving model to cnn_weights_best.hdf5\n",
      "54000/54000 [==============================] - 31s 567us/sample - loss: 0.0352 - acc: 0.9890 - val_loss: 0.0373 - val_acc: 0.9902\n"
     ]
    }
   ],
   "source": [
    "mini_batch_size = 32\n",
    "history = model.fit(train_x,train_y, epochs=3, batch_size=mini_batch_size, callbacks=[checkpoint],\n",
    "                   validation_split=val_frac)\n",
    "# val_frac is fraction of the training data taken to be validation data"
   ]
  },
  {
   "cell_type": "markdown",
   "metadata": {},
   "source": [
    "# Test the model at the end"
   ]
  },
  {
   "cell_type": "code",
   "execution_count": 62,
   "metadata": {},
   "outputs": [
    {
     "name": "stdout",
     "output_type": "stream",
     "text": [
      "\r",
      "10000/10000 [==============================] - 1s 112us/sample - loss: 0.0296 - acc: 0.9899\n"
     ]
    },
    {
     "data": {
      "text/plain": [
       "[0.02964203804731369, 0.9899]"
      ]
     },
     "execution_count": 62,
     "metadata": {},
     "output_type": "execute_result"
    }
   ],
   "source": [
    "model.evaluate(test_x, test_y, batch_size=len(test_x))"
   ]
  },
  {
   "cell_type": "markdown",
   "metadata": {},
   "source": [
    "# Test at the best validation accuracy"
   ]
  },
  {
   "cell_type": "code",
   "execution_count": 63,
   "metadata": {},
   "outputs": [
    {
     "name": "stdout",
     "output_type": "stream",
     "text": [
      "\r",
      "10000/10000 [==============================] - 1s 116us/sample - loss: 0.0296 - acc: 0.9899\n"
     ]
    },
    {
     "data": {
      "text/plain": [
       "[0.02964203804731369, 0.9899]"
      ]
     },
     "execution_count": 63,
     "metadata": {},
     "output_type": "execute_result"
    }
   ],
   "source": [
    "model.load_weights(best_weights)\n",
    "model.compile(optimizer=optim, loss=cost_function, metrics=['accuracy'])\n",
    "model.evaluate(test_x, test_y, batch_size=len(test_x))"
   ]
  },
  {
   "cell_type": "markdown",
   "metadata": {},
   "source": [
    "# Restart the notebook to free up the `GPU` and `RAM`."
   ]
  },
  {
   "cell_type": "code",
   "execution_count": null,
   "metadata": {},
   "outputs": [],
   "source": [
    "IPython.Application.instance().kernel.do_shutdown(True) #automatically restarts kernel"
   ]
  },
  {
   "cell_type": "code",
   "execution_count": null,
   "metadata": {},
   "outputs": [],
   "source": []
  }
 ],
 "metadata": {
  "kernelspec": {
   "display_name": "Python 3",
   "language": "python",
   "name": "python3"
  },
  "language_info": {
   "codemirror_mode": {
    "name": "ipython",
    "version": 3
   },
   "file_extension": ".py",
   "mimetype": "text/x-python",
   "name": "python",
   "nbconvert_exporter": "python",
   "pygments_lexer": "ipython3",
   "version": "3.7.3"
  },
  "toc": {
   "base_numbering": 1,
   "nav_menu": {},
   "number_sections": true,
   "sideBar": true,
   "skip_h1_title": false,
   "title_cell": "Table of Contents",
   "title_sidebar": "Contents",
   "toc_cell": false,
   "toc_position": {
    "height": "calc(100% - 180px)",
    "left": "10px",
    "top": "150px",
    "width": "241.667px"
   },
   "toc_section_display": true,
   "toc_window_display": true
  },
  "varInspector": {
   "cols": {
    "lenName": 16,
    "lenType": 16,
    "lenVar": 40
   },
   "kernels_config": {
    "python": {
     "delete_cmd_postfix": "",
     "delete_cmd_prefix": "del ",
     "library": "var_list.py",
     "varRefreshCmd": "print(var_dic_list())"
    },
    "r": {
     "delete_cmd_postfix": ") ",
     "delete_cmd_prefix": "rm(",
     "library": "var_list.r",
     "varRefreshCmd": "cat(var_dic_list()) "
    }
   },
   "oldHeight": 204.516666,
   "position": {
    "height": "40px",
    "left": "1010px",
    "right": "20px",
    "top": "120px",
    "width": "250px"
   },
   "types_to_exclude": [
    "module",
    "function",
    "builtin_function_or_method",
    "instance",
    "_Feature"
   ],
   "varInspector_section_display": "none",
   "window_display": true
  }
 },
 "nbformat": 4,
 "nbformat_minor": 2
}
