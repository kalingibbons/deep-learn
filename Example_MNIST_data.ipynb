{
 "cells": [
  {
   "cell_type": "markdown",
   "metadata": {},
   "source": [
    "# Create a Headline\n",
    "Create a new cell.  \n",
    "Put the cursor in the new cell.  \n",
    "Press Esc key.   \n",
    "Press m key.  \n",
    "Write your comment.  \n",
    "Press shift+Enter keys. \n"
   ]
  },
  {
   "cell_type": "markdown",
   "metadata": {},
   "source": [
    "# Load MNIST Data\n"
   ]
  },
  {
   "cell_type": "code",
   "execution_count": 149,
   "metadata": {},
   "outputs": [],
   "source": [
    "from keras.datasets import mnist"
   ]
  },
  {
   "cell_type": "code",
   "execution_count": 150,
   "metadata": {},
   "outputs": [],
   "source": [
    "(train_images, train_labels),(test_images,test_labels)=mnist.load_data()"
   ]
  },
  {
   "cell_type": "markdown",
   "metadata": {},
   "source": [
    "# MNIST Data Format"
   ]
  },
  {
   "cell_type": "code",
   "execution_count": 152,
   "metadata": {},
   "outputs": [
    {
     "name": "stdout",
     "output_type": "stream",
     "text": [
      "(60000, 28, 28)\n",
      "60000\n",
      "3\n"
     ]
    }
   ],
   "source": [
    "print(train_images.shape)\n",
    "print(len(train_images))\n",
    "print(train_images.ndim)"
   ]
  },
  {
   "cell_type": "code",
   "execution_count": 88,
   "metadata": {},
   "outputs": [],
   "source": [
    "#test_images[0]"
   ]
  },
  {
   "cell_type": "code",
   "execution_count": 153,
   "metadata": {},
   "outputs": [
    {
     "data": {
      "text/plain": [
       "array([5, 0, 4, ..., 5, 6, 8], dtype=uint8)"
      ]
     },
     "execution_count": 153,
     "metadata": {},
     "output_type": "execute_result"
    }
   ],
   "source": [
    "train_labels"
   ]
  },
  {
   "cell_type": "code",
   "execution_count": 154,
   "metadata": {},
   "outputs": [
    {
     "name": "stdout",
     "output_type": "stream",
     "text": [
      "test_images.shape:(60000, 28, 28)\n",
      "(10000, 28, 28)\n",
      "len(test_images):10000\n",
      "test_labels.ndim:3\n"
     ]
    }
   ],
   "source": [
    "print('test_images.shape:{}'.format(train_images.shape))\n",
    "print(test_images.shape)\n",
    "print('len(test_images):{}'.format(len(test_images)))\n",
    "print('test_labels.ndim:{}'.format(test_images.ndim))"
   ]
  },
  {
   "cell_type": "code",
   "execution_count": 155,
   "metadata": {},
   "outputs": [
    {
     "data": {
      "text/plain": [
       "array([7, 2, 1, ..., 4, 5, 6], dtype=uint8)"
      ]
     },
     "execution_count": 155,
     "metadata": {},
     "output_type": "execute_result"
    }
   ],
   "source": [
    "#print('test_image_sample  {}'.format(test_images[0]))\n",
    "test_labels"
   ]
  },
  {
   "cell_type": "markdown",
   "metadata": {},
   "source": [
    "#  Plot the Digits"
   ]
  },
  {
   "cell_type": "code",
   "execution_count": 156,
   "metadata": {
    "scrolled": true
   },
   "outputs": [
    {
     "data": {
      "image/png": "[encoded data removed]",
      "text/plain": [
       "<Figure size 432x288 with 1 Axes>"
      ]
     },
     "metadata": {
      "needs_background": "light"
     },
     "output_type": "display_data"
    },
    {
     "name": "stdout",
     "output_type": "stream",
     "text": [
      "[5 0 4 1 9 2 1 3 1 4]\n"
     ]
    }
   ],
   "source": [
    "digit = train_images[9]\n",
    "import matplotlib.pyplot as plt\n",
    "plt.imshow(digit, cmap=plt.cm.binary)\n",
    "plt.show()\n",
    "print(train_labels[0:10])"
   ]
  },
  {
   "cell_type": "markdown",
   "metadata": {},
   "source": [
    "#  Manipulate the Data"
   ]
  },
  {
   "cell_type": "code",
   "execution_count": 157,
   "metadata": {},
   "outputs": [
    {
     "name": "stdout",
     "output_type": "stream",
     "text": [
      "\n",
      "slice_images.shape: (10, 28, 28)\n",
      "slice_images.ndim 3\n",
      "\n",
      "Slice 2\n",
      "slice2_images.shape: (10, 14, 14)\n",
      "slice2_images.ndim 3\n",
      "\n",
      "Slice 3\n",
      "slice3_images.shape: (10, 14, 14)\n",
      "slice3_images.ndim 3\n"
     ]
    }
   ],
   "source": [
    "slice_images = train_images[0:10]\n",
    "print(\"\")\n",
    "slice_labels = train_labels[0:10]\n",
    "print('slice_images.shape: {}'.format(slice_images.shape))\n",
    "print('slice_images.ndim {}'.format(slice_images.ndim))\n",
    "\n",
    "print(\"\")\n",
    "print('Slice 2')\n",
    "#Part of image from row 14 to 27 and column 14 to 27\n",
    "slice2_images = slice_images[:, 14:, 14:]\n",
    "print('slice2_images.shape: {}'.format(slice2_images.shape))\n",
    "print('slice2_images.ndim {}'.format(slice2_images.ndim))\n",
    "print('')\n",
    "#Part of image from row 14 to 27 and column 14 to 27\n",
    "print('Slice 3')\n",
    "slice3_images = slice_images[:, 7:-7, 7:-7]\n",
    "print('slice3_images.shape: {}'.format(slice3_images.shape))\n",
    "print('slice3_images.ndim {}'.format(slice3_images.ndim))"
   ]
  },
  {
   "cell_type": "markdown",
   "metadata": {},
   "source": [
    "# Prepare the Images"
   ]
  },
  {
   "cell_type": "code",
   "execution_count": 158,
   "metadata": {},
   "outputs": [],
   "source": [
    "(train_images, train_labels), (test_images, test_labels) = mnist.load_data()\n",
    "train_images = train_images.reshape((60000, 28 * 28))\n",
    "train_images = train_images.astype('float32') / 255\n",
    "test_images = test_images.reshape((10000, 28 * 28))\n",
    "test_images = test_images.astype('float32') / 255"
   ]
  },
  {
   "cell_type": "markdown",
   "metadata": {},
   "source": [
    "# Prepare the Labels"
   ]
  },
  {
   "cell_type": "code",
   "execution_count": 159,
   "metadata": {},
   "outputs": [],
   "source": [
    "from keras.utils import to_categorical\n",
    "train_labels = to_categorical(train_labels)\n",
    "test_labels = to_categorical(test_labels)"
   ]
  },
  {
   "cell_type": "markdown",
   "metadata": {},
   "source": [
    "# The Network Architecture"
   ]
  },
  {
   "cell_type": "code",
   "execution_count": 160,
   "metadata": {},
   "outputs": [],
   "source": [
    "from keras import models\n",
    "from keras import layers\n",
    "network = models.Sequential() # Specify layers in their sequential order\n",
    "# inputs are vectors in R^28*28 = R^784\n",
    "# Dense = Fully Connected.  \n",
    "# Hidden layer has 512 neurons with ReLU activations.\n",
    "network.add(layers.Dense(512, activation='relu', input_shape=(28 * 28,))) # sigmoid \n",
    "# Ouput layer uses softmax with 10 ouput neurons\n",
    "# Assume there are 512 neurons going into the output layer\n",
    "network.add(layers.Dense(10, activation='softmax')) # sigmoid relu"
   ]
  },
  {
   "cell_type": "markdown",
   "metadata": {},
   "source": [
    "# Compile the Network"
   ]
  },
  {
   "cell_type": "code",
   "execution_count": 161,
   "metadata": {},
   "outputs": [],
   "source": [
    "network.compile(optimizer = 'rmsprop',loss='categorical_crossentropy',metrics=['accuracy'])\n",
    "# Options for  optimizer = 'adam', 'sgd'\n",
    "# Other Options loss = 'mean_squared_error'"
   ]
  },
  {
   "cell_type": "markdown",
   "metadata": {},
   "source": [
    "# Train the Network"
   ]
  },
  {
   "cell_type": "code",
   "execution_count": 162,
   "metadata": {},
   "outputs": [
    {
     "name": "stdout",
     "output_type": "stream",
     "text": [
      "Epoch 1/5\n",
      "60000/60000 [==============================] - 3s 58us/step - loss: 0.2562 - acc: 0.9248\n",
      "Epoch 2/5\n",
      "60000/60000 [==============================] - 3s 52us/step - loss: 0.1032 - acc: 0.9700\n",
      "Epoch 3/5\n",
      "60000/60000 [==============================] - 3s 52us/step - loss: 0.0679 - acc: 0.9796\n",
      "Epoch 4/5\n",
      "60000/60000 [==============================] - 3s 53us/step - loss: 0.0493 - acc: 0.9847\n",
      "Epoch 5/5\n",
      "60000/60000 [==============================] - 3s 52us/step - loss: 0.0376 - acc: 0.9891\n"
     ]
    },
    {
     "data": {
      "text/plain": [
       "<keras.callbacks.History at 0x1c7259d3b00>"
      ]
     },
     "execution_count": 162,
     "metadata": {},
     "output_type": "execute_result"
    }
   ],
   "source": [
    "network.fit(train_images, train_labels, epochs=5, batch_size=128)\n",
    "#  \"fit\" refers to fitting the network weights to the data"
   ]
  },
  {
   "cell_type": "code",
   "execution_count": null,
   "metadata": {},
   "outputs": [],
   "source": []
  },
  {
   "cell_type": "code",
   "execution_count": null,
   "metadata": {},
   "outputs": [],
   "source": []
  }
 ],
 "metadata": {
  "kernelspec": {
   "display_name": "Python 3",
   "language": "python",
   "name": "python3"
  },
  "language_info": {
   "codemirror_mode": {
    "name": "ipython",
    "version": 3
   },
   "file_extension": ".py",
   "mimetype": "text/x-python",
   "name": "python",
   "nbconvert_exporter": "python",
   "pygments_lexer": "ipython3",
   "version": "3.7.3"
  },
  "toc": {
   "base_numbering": 1,
   "nav_menu": {},
   "number_sections": true,
   "sideBar": true,
   "skip_h1_title": false,
   "title_cell": "Table of Contents",
   "title_sidebar": "Contents",
   "toc_cell": false,
   "toc_position": {},
   "toc_section_display": true,
   "toc_window_display": true
  },
  "varInspector": {
   "cols": {
    "lenName": 16,
    "lenType": 16,
    "lenVar": 40
   },
   "kernels_config": {
    "python": {
     "delete_cmd_postfix": "",
     "delete_cmd_prefix": "del ",
     "library": "var_list.py",
     "varRefreshCmd": "print(var_dic_list())"
    },
    "r": {
     "delete_cmd_postfix": ") ",
     "delete_cmd_prefix": "rm(",
     "library": "var_list.r",
     "varRefreshCmd": "cat(var_dic_list()) "
    }
   },
   "position": {
    "height": "216.85px",
    "left": "848px",
    "right": "20px",
    "top": "106px",
    "width": "538.5px"
   },
   "types_to_exclude": [
    "module",
    "function",
    "builtin_function_or_method",
    "instance",
    "_Feature"
   ],
   "window_display": false
  }
 },
 "nbformat": 4,
 "nbformat_minor": 2
}
